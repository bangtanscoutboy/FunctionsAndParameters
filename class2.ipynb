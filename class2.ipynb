{
 "cells": [
  {
   "cell_type": "markdown",
   "metadata": {},
   "source": [
    "## Functions and Parameters\n"
   ]
  },
  {
   "cell_type": "code",
   "execution_count": 28,
   "metadata": {},
   "outputs": [],
   "source": [
    "def profileDet(username,followers=1):\n",
    "    print(\"username: \"+username)\n",
    "    print(\"followers are \"+str(followers))\n",
    "    "
   ]
  },
  {
   "cell_type": "code",
   "execution_count": 29,
   "metadata": {},
   "outputs": [
    {
     "name": "stdout",
     "output_type": "stream",
     "text": [
      "username: Raj\n",
      "followers are 1000\n"
     ]
    }
   ],
   "source": [
    "profileDet(\"Raj\",1000)"
   ]
  },
  {
   "cell_type": "code",
   "execution_count": 30,
   "metadata": {},
   "outputs": [
    {
     "name": "stdout",
     "output_type": "stream",
     "text": [
      "username: Arushi\n",
      "followers are 1\n"
     ]
    }
   ],
   "source": [
    "profileDet(\"Arushi\")"
   ]
  },
  {
   "cell_type": "code",
   "execution_count": 47,
   "metadata": {},
   "outputs": [],
   "source": [
    "class Shark:\n",
    "    def swim(self):\n",
    "           print(\"The Shark is swimming\")\n",
    "        \n",
    "    def be_awesome(self):\n",
    "            print(\"shark is being awesome\")\n",
    "    def shark_dead(self):\n",
    "            print(\"shark is dead\")\n"
   ]
  },
  {
   "cell_type": "code",
   "execution_count": 49,
   "metadata": {},
   "outputs": [
    {
     "name": "stdout",
     "output_type": "stream",
     "text": [
      "The Shark is swimming\n",
      "shark is being awesome\n",
      "shark is dead\n"
     ]
    }
   ],
   "source": [
    "doby = Shark()\n",
    "doby.swim()\n",
    "doby.be_awesome()\n",
    "doby.shark_dead()\n"
   ]
  },
  {
   "cell_type": "code",
   "execution_count": 59,
   "metadata": {},
   "outputs": [],
   "source": [
    "class Vehicle:\n",
    "    def __init__(self):\n",
    "        print(\"vehicle created,constructor is called\")\n",
    "    def __del__(self):\n",
    "        print(\"vehicle deleted, destructor is called\")\n",
    "        "
   ]
  },
  {
   "cell_type": "code",
   "execution_count": 64,
   "metadata": {},
   "outputs": [
    {
     "name": "stdout",
     "output_type": "stream",
     "text": [
      "vehicle created,constructor is called\n",
      "vehicle deleted, destructor is called\n"
     ]
    }
   ],
   "source": [
    "car = Vehicle()\n",
    "del car\n",
    "\n",
    "    "
   ]
  },
  {
   "cell_type": "code",
   "execution_count": null,
   "metadata": {},
   "outputs": [],
   "source": []
  }
 ],
 "metadata": {
  "kernelspec": {
   "display_name": "Python 3",
   "language": "python",
   "name": "python3"
  },
  "language_info": {
   "codemirror_mode": {
    "name": "ipython",
    "version": 3
   },
   "file_extension": ".py",
   "mimetype": "text/x-python",
   "name": "python",
   "nbconvert_exporter": "python",
   "pygments_lexer": "ipython3",
   "version": "3.7.0"
  }
 },
 "nbformat": 4,
 "nbformat_minor": 2
}
